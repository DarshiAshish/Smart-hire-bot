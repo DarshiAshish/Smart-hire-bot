{
 "cells": [
  {
   "cell_type": "code",
   "execution_count": 1,
   "metadata": {},
   "outputs": [],
   "source": [
    "import numpy as np\n",
    "import pandas as pd\n",
    "import matplotlib.pyplot as plt\n",
    "import seaborn as sns\n",
    "from sklearn.ensemble import RandomForestClassifier\n",
    "from skopt import BayesSearchCV\n",
    "from skopt.space import Categorical,Real,Integer\n",
    "from sklearn.model_selection import train_test_split\n",
    "from sklearn.metrics import accuracy_score\n",
    "from sklearn.metrics import precision_score,f1_score,recall_score\n",
    "import pickle\n"
   ]
  },
  {
   "cell_type": "code",
   "execution_count": 2,
   "metadata": {},
   "outputs": [],
   "source": [
    "import numpy as np\n",
    "data_distil_bert =  np.load(\"features_distilbert.npz\")\n",
    "final_data_distil_bert = []\n",
    "for each in data_distil_bert:\n",
    "    for each_one in data_distil_bert[each]:\n",
    "        final_data_distil_bert.append(each_one)\n",
    "\n",
    "features = np.array(final_data_distil_bert)"
   ]
  },
  {
   "cell_type": "code",
   "execution_count": 3,
   "metadata": {},
   "outputs": [],
   "source": [
    "df = pd.read_csv(\"labels_generated.csv\")\n",
    "labels = df[\"intent\"]"
   ]
  },
  {
   "cell_type": "code",
   "execution_count": 4,
   "metadata": {},
   "outputs": [],
   "source": [
    "train_features, test_features, train_labels, test_labels = train_test_split(features, labels,test_size=0.3,random_state=0,stratify=labels)\n",
    "    "
   ]
  },
  {
   "cell_type": "markdown",
   "metadata": {},
   "source": [
    "Training a Random Forest Cassifier and checking it's performance"
   ]
  },
  {
   "cell_type": "code",
   "execution_count": 5,
   "metadata": {},
   "outputs": [],
   "source": [
    "def train(train_features,train_labels):\n",
    "    rc = RandomForestClassifier()\n",
    "    params = {\n",
    "    'n_estimators' : Integer(80,120),\n",
    "    'max_depth' : Integer(4,8),\n",
    "\n",
    "    'min_samples_split' : Integer(4,6)\n",
    "    }\n",
    "    bayes_search = BayesSearchCV(rc,params, cv=5)\n",
    "    bayes_search.fit(train_features,train_labels)\n",
    "    return bayes_search"
   ]
  },
  {
   "cell_type": "code",
   "execution_count": 6,
   "metadata": {},
   "outputs": [
    {
     "name": "stderr",
     "output_type": "stream",
     "text": [
      "d:\\Masters\\Projects\\hr_bot_env\\lib\\site-packages\\skopt\\optimizer\\optimizer.py:517: UserWarning: The objective has been evaluated at point [8, 5, 120] before, using random point [4, 5, 114]\n",
      "  warnings.warn(\n",
      "d:\\Masters\\Projects\\hr_bot_env\\lib\\site-packages\\skopt\\optimizer\\optimizer.py:517: UserWarning: The objective has been evaluated at point [8, 5, 120] before, using random point [4, 6, 95]\n",
      "  warnings.warn(\n",
      "d:\\Masters\\Projects\\hr_bot_env\\lib\\site-packages\\skopt\\optimizer\\optimizer.py:517: UserWarning: The objective has been evaluated at point [8, 5, 80] before, using random point [7, 5, 117]\n",
      "  warnings.warn(\n",
      "d:\\Masters\\Projects\\hr_bot_env\\lib\\site-packages\\skopt\\optimizer\\optimizer.py:517: UserWarning: The objective has been evaluated at point [8, 5, 80] before, using random point [5, 4, 111]\n",
      "  warnings.warn(\n",
      "d:\\Masters\\Projects\\hr_bot_env\\lib\\site-packages\\skopt\\optimizer\\optimizer.py:517: UserWarning: The objective has been evaluated at point [8, 5, 80] before, using random point [5, 6, 81]\n",
      "  warnings.warn(\n",
      "d:\\Masters\\Projects\\hr_bot_env\\lib\\site-packages\\skopt\\optimizer\\optimizer.py:517: UserWarning: The objective has been evaluated at point [8, 5, 80] before, using random point [5, 5, 103]\n",
      "  warnings.warn(\n",
      "d:\\Masters\\Projects\\hr_bot_env\\lib\\site-packages\\skopt\\optimizer\\optimizer.py:517: UserWarning: The objective has been evaluated at point [8, 5, 80] before, using random point [6, 5, 100]\n",
      "  warnings.warn(\n",
      "d:\\Masters\\Projects\\hr_bot_env\\lib\\site-packages\\skopt\\optimizer\\optimizer.py:517: UserWarning: The objective has been evaluated at point [8, 5, 80] before, using random point [7, 5, 80]\n",
      "  warnings.warn(\n",
      "d:\\Masters\\Projects\\hr_bot_env\\lib\\site-packages\\skopt\\optimizer\\optimizer.py:517: UserWarning: The objective has been evaluated at point [8, 5, 80] before, using random point [4, 6, 94]\n",
      "  warnings.warn(\n",
      "d:\\Masters\\Projects\\hr_bot_env\\lib\\site-packages\\skopt\\optimizer\\optimizer.py:517: UserWarning: The objective has been evaluated at point [8, 4, 80] before, using random point [7, 5, 103]\n",
      "  warnings.warn(\n",
      "d:\\Masters\\Projects\\hr_bot_env\\lib\\site-packages\\skopt\\optimizer\\optimizer.py:517: UserWarning: The objective has been evaluated at point [8, 4, 80] before, using random point [8, 6, 110]\n",
      "  warnings.warn(\n",
      "d:\\Masters\\Projects\\hr_bot_env\\lib\\site-packages\\skopt\\optimizer\\optimizer.py:517: UserWarning: The objective has been evaluated at point [8, 4, 80] before, using random point [4, 4, 103]\n",
      "  warnings.warn(\n",
      "d:\\Masters\\Projects\\hr_bot_env\\lib\\site-packages\\skopt\\optimizer\\optimizer.py:517: UserWarning: The objective has been evaluated at point [8, 4, 80] before, using random point [7, 5, 106]\n",
      "  warnings.warn(\n",
      "d:\\Masters\\Projects\\hr_bot_env\\lib\\site-packages\\skopt\\optimizer\\optimizer.py:517: UserWarning: The objective has been evaluated at point [8, 4, 80] before, using random point [5, 6, 115]\n",
      "  warnings.warn(\n",
      "d:\\Masters\\Projects\\hr_bot_env\\lib\\site-packages\\skopt\\optimizer\\optimizer.py:517: UserWarning: The objective has been evaluated at point [8, 4, 80] before, using random point [5, 6, 119]\n",
      "  warnings.warn(\n",
      "d:\\Masters\\Projects\\hr_bot_env\\lib\\site-packages\\skopt\\optimizer\\optimizer.py:517: UserWarning: The objective has been evaluated at point [8, 4, 80] before, using random point [8, 5, 99]\n",
      "  warnings.warn(\n",
      "d:\\Masters\\Projects\\hr_bot_env\\lib\\site-packages\\skopt\\optimizer\\optimizer.py:517: UserWarning: The objective has been evaluated at point [8, 4, 80] before, using random point [7, 4, 89]\n",
      "  warnings.warn(\n",
      "d:\\Masters\\Projects\\hr_bot_env\\lib\\site-packages\\skopt\\optimizer\\optimizer.py:517: UserWarning: The objective has been evaluated at point [8, 4, 80] before, using random point [5, 6, 120]\n",
      "  warnings.warn(\n",
      "d:\\Masters\\Projects\\hr_bot_env\\lib\\site-packages\\skopt\\optimizer\\optimizer.py:517: UserWarning: The objective has been evaluated at point [8, 4, 80] before, using random point [6, 5, 95]\n",
      "  warnings.warn(\n",
      "d:\\Masters\\Projects\\hr_bot_env\\lib\\site-packages\\skopt\\optimizer\\optimizer.py:517: UserWarning: The objective has been evaluated at point [8, 4, 80] before, using random point [4, 5, 118]\n",
      "  warnings.warn(\n",
      "d:\\Masters\\Projects\\hr_bot_env\\lib\\site-packages\\skopt\\optimizer\\optimizer.py:517: UserWarning: The objective has been evaluated at point [8, 4, 80] before, using random point [6, 4, 89]\n",
      "  warnings.warn(\n",
      "d:\\Masters\\Projects\\hr_bot_env\\lib\\site-packages\\skopt\\optimizer\\optimizer.py:517: UserWarning: The objective has been evaluated at point [8, 4, 80] before, using random point [8, 4, 84]\n",
      "  warnings.warn(\n",
      "d:\\Masters\\Projects\\hr_bot_env\\lib\\site-packages\\skopt\\optimizer\\optimizer.py:517: UserWarning: The objective has been evaluated at point [8, 6, 120] before, using random point [6, 4, 106]\n",
      "  warnings.warn(\n",
      "d:\\Masters\\Projects\\hr_bot_env\\lib\\site-packages\\skopt\\optimizer\\optimizer.py:517: UserWarning: The objective has been evaluated at point [8, 6, 120] before, using random point [5, 6, 87]\n",
      "  warnings.warn(\n"
     ]
    }
   ],
   "source": [
    "pickle.dump(train(train_features, train_labels),open('distil_bert/random.sav','wb'))"
   ]
  },
  {
   "cell_type": "code",
   "execution_count": 7,
   "metadata": {},
   "outputs": [
    {
     "name": "stdout",
     "output_type": "stream",
     "text": [
      "Accuracy :  91.78082191780823\n",
      "Precision :  97.72047631838123\n",
      "f1_score :  94.24165483144661\n",
      "recall score :  91.78082191780823\n",
      "---------------------------------------------------------------------------\n"
     ]
    }
   ],
   "source": [
    "model = pickle.load(open('distil_bert/random.sav', 'rb'))\n",
    "out=model.predict(test_features)\n",
    "print(\"Accuracy : \",accuracy_score(out,test_labels)*100, flush=True)\n",
    "print(\"Precision : \",precision_score(out,test_labels,average = 'weighted')*100, flush=True)\n",
    "print(\"f1_score : \",f1_score(out,test_labels,average = \"weighted\")*100, flush=True)\n",
    "print(\"recall score : \",recall_score(out,test_labels,average=\"weighted\")*100, flush=True)\n",
    "print(\"---------------------------------------------------------------------------\", flush=True)"
   ]
  },
  {
   "cell_type": "code",
   "execution_count": 8,
   "metadata": {},
   "outputs": [],
   "source": [
    "data_distil_bert =  np.load(\"features_roberta.npz\")\n",
    "final_data_distil_bert = []\n",
    "for each in data_distil_bert:\n",
    "    for each_one in data_distil_bert[each]:\n",
    "        final_data_distil_bert.append(each_one)\n",
    "\n",
    "features_roberta = np.array(final_data_distil_bert)"
   ]
  },
  {
   "cell_type": "code",
   "execution_count": 9,
   "metadata": {},
   "outputs": [],
   "source": [
    "train_features, test_features, train_labels, test_labels = train_test_split(features_roberta, labels,test_size=0.3,random_state=0,stratify=labels)\n",
    "    "
   ]
  },
  {
   "cell_type": "code",
   "execution_count": 10,
   "metadata": {},
   "outputs": [
    {
     "name": "stderr",
     "output_type": "stream",
     "text": [
      "d:\\Masters\\Projects\\hr_bot_env\\lib\\site-packages\\skopt\\optimizer\\optimizer.py:517: UserWarning: The objective has been evaluated at point [8, 4, 120] before, using random point [8, 5, 111]\n",
      "  warnings.warn(\n",
      "d:\\Masters\\Projects\\hr_bot_env\\lib\\site-packages\\skopt\\optimizer\\optimizer.py:517: UserWarning: The objective has been evaluated at point [8, 4, 120] before, using random point [6, 4, 92]\n",
      "  warnings.warn(\n",
      "d:\\Masters\\Projects\\hr_bot_env\\lib\\site-packages\\skopt\\optimizer\\optimizer.py:517: UserWarning: The objective has been evaluated at point [8, 6, 120] before, using random point [4, 5, 101]\n",
      "  warnings.warn(\n",
      "d:\\Masters\\Projects\\hr_bot_env\\lib\\site-packages\\skopt\\optimizer\\optimizer.py:517: UserWarning: The objective has been evaluated at point [8, 4, 120] before, using random point [7, 6, 103]\n",
      "  warnings.warn(\n",
      "d:\\Masters\\Projects\\hr_bot_env\\lib\\site-packages\\skopt\\optimizer\\optimizer.py:517: UserWarning: The objective has been evaluated at point [8, 6, 120] before, using random point [8, 4, 82]\n",
      "  warnings.warn(\n",
      "d:\\Masters\\Projects\\hr_bot_env\\lib\\site-packages\\skopt\\optimizer\\optimizer.py:517: UserWarning: The objective has been evaluated at point [8, 6, 120] before, using random point [5, 5, 100]\n",
      "  warnings.warn(\n",
      "d:\\Masters\\Projects\\hr_bot_env\\lib\\site-packages\\skopt\\optimizer\\optimizer.py:517: UserWarning: The objective has been evaluated at point [8, 6, 120] before, using random point [4, 5, 113]\n",
      "  warnings.warn(\n",
      "d:\\Masters\\Projects\\hr_bot_env\\lib\\site-packages\\skopt\\optimizer\\optimizer.py:517: UserWarning: The objective has been evaluated at point [8, 6, 120] before, using random point [5, 5, 86]\n",
      "  warnings.warn(\n",
      "d:\\Masters\\Projects\\hr_bot_env\\lib\\site-packages\\skopt\\optimizer\\optimizer.py:517: UserWarning: The objective has been evaluated at point [8, 6, 120] before, using random point [7, 6, 83]\n",
      "  warnings.warn(\n",
      "d:\\Masters\\Projects\\hr_bot_env\\lib\\site-packages\\skopt\\optimizer\\optimizer.py:517: UserWarning: The objective has been evaluated at point [8, 4, 120] before, using random point [7, 5, 92]\n",
      "  warnings.warn(\n",
      "d:\\Masters\\Projects\\hr_bot_env\\lib\\site-packages\\skopt\\optimizer\\optimizer.py:517: UserWarning: The objective has been evaluated at point [8, 6, 120] before, using random point [8, 4, 80]\n",
      "  warnings.warn(\n",
      "d:\\Masters\\Projects\\hr_bot_env\\lib\\site-packages\\skopt\\optimizer\\optimizer.py:517: UserWarning: The objective has been evaluated at point [8, 6, 120] before, using random point [4, 5, 106]\n",
      "  warnings.warn(\n",
      "d:\\Masters\\Projects\\hr_bot_env\\lib\\site-packages\\skopt\\optimizer\\optimizer.py:517: UserWarning: The objective has been evaluated at point [8, 6, 120] before, using random point [4, 5, 96]\n",
      "  warnings.warn(\n",
      "d:\\Masters\\Projects\\hr_bot_env\\lib\\site-packages\\skopt\\optimizer\\optimizer.py:517: UserWarning: The objective has been evaluated at point [8, 6, 120] before, using random point [7, 5, 103]\n",
      "  warnings.warn(\n",
      "d:\\Masters\\Projects\\hr_bot_env\\lib\\site-packages\\skopt\\optimizer\\optimizer.py:517: UserWarning: The objective has been evaluated at point [8, 6, 120] before, using random point [5, 5, 101]\n",
      "  warnings.warn(\n",
      "d:\\Masters\\Projects\\hr_bot_env\\lib\\site-packages\\skopt\\optimizer\\optimizer.py:517: UserWarning: The objective has been evaluated at point [8, 6, 120] before, using random point [7, 5, 84]\n",
      "  warnings.warn(\n",
      "d:\\Masters\\Projects\\hr_bot_env\\lib\\site-packages\\skopt\\optimizer\\optimizer.py:517: UserWarning: The objective has been evaluated at point [8, 6, 120] before, using random point [4, 4, 106]\n",
      "  warnings.warn(\n",
      "d:\\Masters\\Projects\\hr_bot_env\\lib\\site-packages\\skopt\\optimizer\\optimizer.py:517: UserWarning: The objective has been evaluated at point [8, 6, 120] before, using random point [6, 5, 92]\n",
      "  warnings.warn(\n",
      "d:\\Masters\\Projects\\hr_bot_env\\lib\\site-packages\\skopt\\optimizer\\optimizer.py:517: UserWarning: The objective has been evaluated at point [8, 6, 120] before, using random point [4, 6, 102]\n",
      "  warnings.warn(\n",
      "d:\\Masters\\Projects\\hr_bot_env\\lib\\site-packages\\skopt\\optimizer\\optimizer.py:517: UserWarning: The objective has been evaluated at point [8, 6, 120] before, using random point [4, 5, 111]\n",
      "  warnings.warn(\n",
      "d:\\Masters\\Projects\\hr_bot_env\\lib\\site-packages\\skopt\\optimizer\\optimizer.py:517: UserWarning: The objective has been evaluated at point [8, 6, 120] before, using random point [5, 6, 85]\n",
      "  warnings.warn(\n",
      "d:\\Masters\\Projects\\hr_bot_env\\lib\\site-packages\\skopt\\optimizer\\optimizer.py:517: UserWarning: The objective has been evaluated at point [8, 6, 120] before, using random point [8, 4, 93]\n",
      "  warnings.warn(\n",
      "d:\\Masters\\Projects\\hr_bot_env\\lib\\site-packages\\skopt\\optimizer\\optimizer.py:517: UserWarning: The objective has been evaluated at point [8, 6, 120] before, using random point [7, 4, 107]\n",
      "  warnings.warn(\n",
      "d:\\Masters\\Projects\\hr_bot_env\\lib\\site-packages\\skopt\\optimizer\\optimizer.py:517: UserWarning: The objective has been evaluated at point [8, 6, 120] before, using random point [6, 4, 94]\n",
      "  warnings.warn(\n",
      "d:\\Masters\\Projects\\hr_bot_env\\lib\\site-packages\\skopt\\optimizer\\optimizer.py:517: UserWarning: The objective has been evaluated at point [8, 6, 120] before, using random point [6, 4, 112]\n",
      "  warnings.warn(\n",
      "d:\\Masters\\Projects\\hr_bot_env\\lib\\site-packages\\skopt\\optimizer\\optimizer.py:517: UserWarning: The objective has been evaluated at point [8, 6, 120] before, using random point [7, 5, 80]\n",
      "  warnings.warn(\n",
      "d:\\Masters\\Projects\\hr_bot_env\\lib\\site-packages\\skopt\\optimizer\\optimizer.py:517: UserWarning: The objective has been evaluated at point [8, 4, 120] before, using random point [8, 4, 103]\n",
      "  warnings.warn(\n",
      "d:\\Masters\\Projects\\hr_bot_env\\lib\\site-packages\\skopt\\optimizer\\optimizer.py:517: UserWarning: The objective has been evaluated at point [8, 6, 120] before, using random point [7, 5, 99]\n",
      "  warnings.warn(\n",
      "d:\\Masters\\Projects\\hr_bot_env\\lib\\site-packages\\skopt\\optimizer\\optimizer.py:517: UserWarning: The objective has been evaluated at point [8, 6, 120] before, using random point [5, 6, 90]\n",
      "  warnings.warn(\n",
      "d:\\Masters\\Projects\\hr_bot_env\\lib\\site-packages\\skopt\\optimizer\\optimizer.py:517: UserWarning: The objective has been evaluated at point [8, 6, 120] before, using random point [7, 4, 97]\n",
      "  warnings.warn(\n",
      "d:\\Masters\\Projects\\hr_bot_env\\lib\\site-packages\\skopt\\optimizer\\optimizer.py:517: UserWarning: The objective has been evaluated at point [8, 6, 120] before, using random point [7, 6, 82]\n",
      "  warnings.warn(\n",
      "d:\\Masters\\Projects\\hr_bot_env\\lib\\site-packages\\skopt\\optimizer\\optimizer.py:517: UserWarning: The objective has been evaluated at point [8, 6, 120] before, using random point [7, 5, 88]\n",
      "  warnings.warn(\n",
      "d:\\Masters\\Projects\\hr_bot_env\\lib\\site-packages\\skopt\\optimizer\\optimizer.py:517: UserWarning: The objective has been evaluated at point [8, 6, 120] before, using random point [4, 5, 100]\n",
      "  warnings.warn(\n"
     ]
    }
   ],
   "source": [
    "pickle.dump(train(train_features, train_labels),open('roberta/random.sav','wb'))\n"
   ]
  },
  {
   "cell_type": "code",
   "execution_count": 11,
   "metadata": {},
   "outputs": [
    {
     "name": "stdout",
     "output_type": "stream",
     "text": [
      "Accuracy :  69.86301369863014\n",
      "Precision :  73.33306773147308\n",
      "f1_score :  70.86742578776527\n",
      "recall score :  69.86301369863014\n",
      "---------------------------------------------------------------------------\n"
     ]
    }
   ],
   "source": [
    "model = pickle.load(open('roberta/random.sav', 'rb'))\n",
    "out=model.predict(test_features)\n",
    "print(\"Accuracy : \",accuracy_score(out,test_labels)*100, flush=True)\n",
    "print(\"Precision : \",precision_score(out,test_labels,average = 'weighted')*100, flush=True)\n",
    "print(\"f1_score : \",f1_score(out,test_labels,average = \"weighted\")*100, flush=True)\n",
    "print(\"recall score : \",recall_score(out,test_labels,average=\"weighted\")*100, flush=True)\n",
    "print(\"---------------------------------------------------------------------------\", flush=True)"
   ]
  }
 ],
 "metadata": {
  "kernelspec": {
   "display_name": "hr_bot_env",
   "language": "python",
   "name": "python3"
  },
  "language_info": {
   "codemirror_mode": {
    "name": "ipython",
    "version": 3
   },
   "file_extension": ".py",
   "mimetype": "text/x-python",
   "name": "python",
   "nbconvert_exporter": "python",
   "pygments_lexer": "ipython3",
   "version": "3.10.2"
  }
 },
 "nbformat": 4,
 "nbformat_minor": 2
}
